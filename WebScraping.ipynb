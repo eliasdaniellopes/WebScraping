{
 "cells": [
  {
   "cell_type": "markdown",
   "metadata": {},
   "source": [
    "# Primeiro Scraper"
   ]
  },
  {
   "cell_type": "code",
   "execution_count": 67,
   "metadata": {},
   "outputs": [],
   "source": [
    "from urllib.request import urlopen\n",
    "from bs4 import BeautifulSoup\n",
    "import json"
   ]
  },
  {
   "cell_type": "code",
   "execution_count": 3,
   "metadata": {},
   "outputs": [],
   "source": [
    "from urllib.error import HTTPError"
   ]
  },
  {
   "cell_type": "code",
   "execution_count": 5,
   "metadata": {},
   "outputs": [
    {
     "name": "stdout",
     "output_type": "stream",
     "text": [
      "<h1>An Interesting Title</h1>\n"
     ]
    }
   ],
   "source": [
    "html = urlopen('http://pythonscraping.com/pages/page1.html')\n",
    "bs = BeautifulSoup(html.read(), 'html.parser')\n",
    "print(bs.h1)"
   ]
  },
  {
   "cell_type": "markdown",
   "metadata": {},
   "source": [
    "# Adicionando exceções"
   ]
  },
  {
   "cell_type": "code",
   "execution_count": 9,
   "metadata": {},
   "outputs": [],
   "source": [
    "def get_title(url):\n",
    "    try:\n",
    "        html = urlopen(url)\n",
    "    except HTTPError as e:\n",
    "        return None\n",
    "    try:\n",
    "        bs = BeautifulSoup(html.read(), 'html.parser')\n",
    "        title = bs.body.h1\n",
    "    except AttributeError as e:\n",
    "        return None\n",
    "    return title"
   ]
  },
  {
   "cell_type": "code",
   "execution_count": 10,
   "metadata": {},
   "outputs": [
    {
     "name": "stdout",
     "output_type": "stream",
     "text": [
      "<h1>An Interesting Title</h1>\n"
     ]
    }
   ],
   "source": [
    "title = get_title('http://pythonscraping.com/pages/page1.html')\n",
    "if title == None:\n",
    "    print('O titulo não existe')\n",
    "else:\n",
    "    print(title)"
   ]
  },
  {
   "cell_type": "markdown",
   "metadata": {},
   "source": [
    "# Buscando vários elementos e Filtrando dados"
   ]
  },
  {
   "cell_type": "code",
   "execution_count": 16,
   "metadata": {},
   "outputs": [],
   "source": [
    "html = urlopen('http://pythonscraping.com/pages/warandpeace.html')\n",
    "bs = BeautifulSoup(html.read(), 'html.parser')"
   ]
  },
  {
   "cell_type": "code",
   "execution_count": 18,
   "metadata": {},
   "outputs": [],
   "source": [
    "nameList = bs.find_all('span', {'class':'green'})\n",
    "lista = []\n",
    "for name in nameList:\n",
    "    lista.append(name.get_text())"
   ]
  },
  {
   "cell_type": "code",
   "execution_count": 19,
   "metadata": {},
   "outputs": [
    {
     "data": {
      "text/plain": [
       "['Anna\\nPavlovna Scherer',\n",
       " 'Empress Marya\\nFedorovna',\n",
       " 'Prince Vasili Kuragin',\n",
       " 'Anna Pavlovna',\n",
       " 'St. Petersburg',\n",
       " 'the prince',\n",
       " 'Anna Pavlovna',\n",
       " 'Anna Pavlovna',\n",
       " 'the prince',\n",
       " 'the prince',\n",
       " 'the prince',\n",
       " 'Prince Vasili',\n",
       " 'Anna Pavlovna',\n",
       " 'Anna Pavlovna',\n",
       " 'the prince',\n",
       " 'Wintzingerode',\n",
       " 'King of Prussia',\n",
       " 'le Vicomte de Mortemart',\n",
       " 'Montmorencys',\n",
       " 'Rohans',\n",
       " 'Abbe Morio',\n",
       " 'the Emperor',\n",
       " 'the prince',\n",
       " 'Prince Vasili',\n",
       " 'Dowager Empress Marya Fedorovna',\n",
       " 'the baron',\n",
       " 'Anna Pavlovna',\n",
       " 'the Empress',\n",
       " 'the Empress',\n",
       " \"Anna Pavlovna's\",\n",
       " 'Her Majesty',\n",
       " 'Baron\\nFunke',\n",
       " 'The prince',\n",
       " 'Anna\\nPavlovna',\n",
       " 'the Empress',\n",
       " 'The prince',\n",
       " 'Anatole',\n",
       " 'the prince',\n",
       " 'The prince',\n",
       " 'Anna\\nPavlovna',\n",
       " 'Anna Pavlovna']"
      ]
     },
     "execution_count": 19,
     "metadata": {},
     "output_type": "execute_result"
    }
   ],
   "source": [
    "lista"
   ]
  },
  {
   "cell_type": "code",
   "execution_count": 20,
   "metadata": {},
   "outputs": [
    {
     "data": {
      "text/plain": [
       "{'Abbe Morio',\n",
       " 'Anatole',\n",
       " 'Anna\\nPavlovna',\n",
       " 'Anna\\nPavlovna Scherer',\n",
       " 'Anna Pavlovna',\n",
       " \"Anna Pavlovna's\",\n",
       " 'Baron\\nFunke',\n",
       " 'Dowager Empress Marya Fedorovna',\n",
       " 'Empress Marya\\nFedorovna',\n",
       " 'Her Majesty',\n",
       " 'King of Prussia',\n",
       " 'Montmorencys',\n",
       " 'Prince Vasili',\n",
       " 'Prince Vasili Kuragin',\n",
       " 'Rohans',\n",
       " 'St. Petersburg',\n",
       " 'The prince',\n",
       " 'Wintzingerode',\n",
       " 'le Vicomte de Mortemart',\n",
       " 'the Emperor',\n",
       " 'the Empress',\n",
       " 'the baron',\n",
       " 'the prince'}"
      ]
     },
     "execution_count": 20,
     "metadata": {},
     "output_type": "execute_result"
    }
   ],
   "source": [
    "set(lista)"
   ]
  },
  {
   "cell_type": "code",
   "execution_count": 75,
   "metadata": {},
   "outputs": [],
   "source": [
    "g = []\n",
    "for n in l:\n",
    "    g.append(n.title().replace('\\n', ' '))\n",
    "    \n"
   ]
  },
  {
   "cell_type": "code",
   "execution_count": 76,
   "metadata": {},
   "outputs": [],
   "source": [
    "listaFinal = set(g)"
   ]
  },
  {
   "cell_type": "markdown",
   "metadata": {},
   "source": [
    "# Salvando dados Filtrados num Json"
   ]
  },
  {
   "cell_type": "code",
   "execution_count": 80,
   "metadata": {},
   "outputs": [],
   "source": [
    "\n",
    "file = 'titulos.json'\n",
    "with open(file,'w') as fp:\n",
    "    json.dump(list(listaFinal), fp)"
   ]
  },
  {
   "cell_type": "code",
   "execution_count": null,
   "metadata": {},
   "outputs": [],
   "source": [
    "\n",
    "file = 'titulos.json'\n",
    "with open(file,'w') as fp:\n",
    "    json.dump(list(listaFinal), fp)\n",
    "    "
   ]
  },
  {
   "cell_type": "code",
   "execution_count": 77,
   "metadata": {},
   "outputs": [
    {
     "data": {
      "text/plain": [
       "{'Abbe Morio',\n",
       " 'Anatole',\n",
       " 'Anna Pavlovna',\n",
       " 'Anna Pavlovna Scherer',\n",
       " \"Anna Pavlovna'S\",\n",
       " 'Baron Funke',\n",
       " 'Dowager Empress Marya Fedorovna',\n",
       " 'Empress Marya Fedorovna',\n",
       " 'Her Majesty',\n",
       " 'King Of Prussia',\n",
       " 'Le Vicomte De Mortemart',\n",
       " 'Montmorencys',\n",
       " 'Prince Vasili',\n",
       " 'Prince Vasili Kuragin',\n",
       " 'Rohans',\n",
       " 'St. Petersburg',\n",
       " 'The Baron',\n",
       " 'The Emperor',\n",
       " 'The Empress',\n",
       " 'The Prince',\n",
       " 'Wintzingerode'}"
      ]
     },
     "execution_count": 77,
     "metadata": {},
     "output_type": "execute_result"
    }
   ],
   "source": [
    "listaFinal"
   ]
  },
  {
   "cell_type": "markdown",
   "metadata": {},
   "source": [
    "# Parsing de HTML avançado"
   ]
  },
  {
   "cell_type": "code",
   "execution_count": null,
   "metadata": {},
   "outputs": [],
   "source": []
  }
 ],
 "metadata": {
  "kernelspec": {
   "display_name": "Python 3",
   "language": "python",
   "name": "python3"
  },
  "language_info": {
   "codemirror_mode": {
    "name": "ipython",
    "version": 3
   },
   "file_extension": ".py",
   "mimetype": "text/x-python",
   "name": "python",
   "nbconvert_exporter": "python",
   "pygments_lexer": "ipython3",
   "version": "3.7.3"
  }
 },
 "nbformat": 4,
 "nbformat_minor": 2
}
